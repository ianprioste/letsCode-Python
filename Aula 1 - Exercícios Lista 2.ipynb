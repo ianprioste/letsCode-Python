{
 "cells": [
  {
   "cell_type": "markdown",
   "metadata": {},
   "source": [
    "# Aula 1 - Exercícios Lista 2"
   ]
  },
  {
   "cell_type": "markdown",
   "metadata": {},
   "source": [
    "## 1. Faça um programa que peça a idade do usuário e imprima se ele é maior ou menor de 18 anos. "
   ]
  },
  {
   "cell_type": "code",
   "execution_count": 1,
   "metadata": {},
   "outputs": [
    {
     "name": "stdin",
     "output_type": "stream",
     "text": [
      "Digite a sua idade: 27\n"
     ]
    },
    {
     "name": "stdout",
     "output_type": "stream",
     "text": [
      "Você é maior de 18 anos\n"
     ]
    }
   ],
   "source": [
    "idade = int (input(\"Digite a sua idade:\"))\n",
    "\n",
    "if idade >= 18:\n",
    "    print(\"Você é maior de 18 anos\")\n",
    "else:\n",
    "    print(\"Você é menor de 18 anos\")"
   ]
  },
  {
   "cell_type": "markdown",
   "metadata": {},
   "source": [
    "## 2. Faça um programa que peça um número e mostre se ele é positivo ou negativo. "
   ]
  },
  {
   "cell_type": "code",
   "execution_count": 3,
   "metadata": {},
   "outputs": [
    {
     "name": "stdin",
     "output_type": "stream",
     "text": [
      "Digite um número: -10\n"
     ]
    },
    {
     "name": "stdout",
     "output_type": "stream",
     "text": [
      "O número é negativo\n"
     ]
    }
   ],
   "source": [
    "num = int (input(\"Digite um número:\"))\n",
    "\n",
    "if num >= 0:\n",
    "    print(\"O número é positivo\")\n",
    "else:\n",
    "    print(\"O número é negativo\")"
   ]
  },
  {
   "cell_type": "markdown",
   "metadata": {},
   "source": [
    "## 3.Faça um programa que dado um número digitado, mostre se ele é Par ou Ímpar."
   ]
  },
  {
   "cell_type": "code",
   "execution_count": 4,
   "metadata": {},
   "outputs": [
    {
     "name": "stdin",
     "output_type": "stream",
     "text": [
      "Digite um número: 10\n"
     ]
    },
    {
     "name": "stdout",
     "output_type": "stream",
     "text": [
      "O número é par\n"
     ]
    }
   ],
   "source": [
    "num = int (input(\"Digite um número:\"))\n",
    "\n",
    "if num%2==0:\n",
    "    print(\"O número é par\")\n",
    "else:\n",
    "    print(\"O número é impar\")"
   ]
  },
  {
   "cell_type": "markdown",
   "metadata": {},
   "source": [
    "## 4.Faça um programa que peça dois números e mostre o maior deles. "
   ]
  },
  {
   "cell_type": "code",
   "execution_count": 6,
   "metadata": {},
   "outputs": [
    {
     "name": "stdin",
     "output_type": "stream",
     "text": [
      "Digite um número: 2\n",
      "Digite outro número: 2\n"
     ]
    },
    {
     "name": "stdout",
     "output_type": "stream",
     "text": [
      "2 é o maior número\n"
     ]
    }
   ],
   "source": [
    "num1 = int (input(\"Digite um número:\"))\n",
    "num2 = int (input(\"Digite outro número:\"))\n",
    "\n",
    "if num1>=num2:\n",
    "    print(num1,\"é o maior número\")\n",
    "else:\n",
    "    print(num2, \"é maior número\")"
   ]
  },
  {
   "cell_type": "markdown",
   "metadata": {},
   "source": [
    "## 5. Faça um programa que leia a validade das informações:"
   ]
  },
  {
   "cell_type": "code",
   "execution_count": 1,
   "metadata": {},
   "outputs": [
    {
     "name": "stdin",
     "output_type": "stream",
     "text": [
      "Digite a sua idade: 8\n",
      "Agora digite o seu salário:  12\n",
      "Qual o seu gênero? ( M / F / Outro) outro\n"
     ]
    },
    {
     "name": "stdout",
     "output_type": "stream",
     "text": [
      "Cadastro efetuado com sucesso\n"
     ]
    }
   ],
   "source": [
    "idade = 0\n",
    "salario = 0\n",
    "genero = \"\"\n",
    "while idade <=0 or idade > 150:\n",
    "    idade = int (input(\"Digite a sua idade:\"))\n",
    "    if idade <=0 or idade > 150:\n",
    "        print (\"Idade Inválida\")\n",
    "\n",
    "while salario <= 0:\n",
    "    salario = float(input(\"Agora digite o seu salário: \"))\n",
    "    if salario <=0:\n",
    "        print (\"Salário Inválido\")\n",
    "\n",
    "while genero != \"M\" and genero != \"F\" and genero != \"OUTRO\":\n",
    "    genero = input(\"Qual o seu gênero? ( M / F / Outro)\")\n",
    "    genero = genero.upper()\n",
    "    if genero != \"M\" and genero != \"F\" and genero != \"OUTRO\":\n",
    "        print (\"Genêro Inválido\")\n",
    "print (\"Cadastro efetuado com sucesso\")"
   ]
  },
  {
   "cell_type": "markdown",
   "metadata": {},
   "source": [
    "## 6. Escreva um programa que peça a nota de 3 provas de um aluno e verifique se ele passou o não de ano. \n",
    "Obs.: O aluno irá passar de ano se sua média for maior que 6. "
   ]
  },
  {
   "cell_type": "code",
   "execution_count": null,
   "metadata": {},
   "outputs": [],
   "source": [
    "aluno = input (\"Digite o nome do aluno: \")\n",
    "nota1 = float(input(\"Digite a primeira nota: \"))\n",
    "nota2 = float(input(\"Digite a segunda nota: \"))\n",
    "nota3 = float(input(\"Digite a terceira nota: \"))\n",
    "media = (nota1+nota2+nota3)/3\n",
    "print (\"A média do aluno \", aluno,\" é: \", media)\n",
    "\n",
    "if media >=6:\n",
    "    print(\"O aluno\", aluno, \"está APROVADO\")\n",
    "else:\n",
    "    print(\"O aluno\", aluno, \"está REPROVADO\")"
   ]
  },
  {
   "cell_type": "markdown",
   "metadata": {},
   "source": [
    "## 7. Faça um programa que mostre uma questão de múltipla escolha com 5 opções (letras a, b, c, d, e e). Sabendo a resposta certa, o programa deve receber a opção do usuário e informar a letra que o usuário marcou e se a resposta está certa ou errada."
   ]
  },
  {
   "cell_type": "code",
   "execution_count": null,
   "metadata": {},
   "outputs": [],
   "source": [
    "print (\"A cor do céu é:\\na) marrom\\nb) azul\\nc) rosa\\nd) amarelo\\ne)roxo\")\n",
    "\n",
    "alternativaCorreta = \"b\"\n",
    "resposta = input (\"Digite a alternativa correta:\") \n",
    "\n",
    "resposta = resposta.lower()\n",
    "\n",
    "while resposta != alternativaCorreta:\n",
    "    print(\"Resposta Incorreta\")\n",
    "    resposta = input (\"Tente mais uma vez: \")\n",
    "    resposta = resposta.lower()\n",
    "\n",
    "print (\"Parabéns! Você acertou\")"
   ]
  },
  {
   "cell_type": "markdown",
   "metadata": {},
   "source": [
    "## 8. Vamos fazer um programa para verificar quem é o assassino de um crime. Para descobrir o assassino, a polícia faz um pequeno questionário com 5 perguntas onde a resposta só pode ser sim ou não:\n",
    "### a. Mora perto da vítima?\n",
    "### b. Já trabalhou com a vítima? \n",
    "### c. Telefonou para a vítima?\n",
    "### d. Esteve no local do crime?\n",
    "### e. Devia para a vítima?\n",
    "### Cada resposta sim dá um ponto para o suspeito. A polícia considera que os suspeitos com 5 pontos são os assassinos, com 4 a 3 pontos são cúmplices e 2 pontos são apenas suspeitos, necessitando outras investigações. Valores abaixo de 1 são liberados.\n"
   ]
  },
  {
   "cell_type": "code",
   "execution_count": null,
   "metadata": {},
   "outputs": [],
   "source": [
    "addInvestigado = \"s\"\n",
    "assassinos = []\n",
    "cumplices = []\n",
    "suspeitos = []\n",
    "liberados = []\n",
    "\n",
    "while addInvestigado == \"s\":\n",
    "\n",
    "    investigado = input (\"Digite o nome do Investigado: \")\n",
    "    investigado = investigado.lower().capitalize()\n",
    "    print (\"Responda o questionário abaixo com 's' para sim e 'n' para não\")\n",
    "    a,b,c,d,e = \"\",\"\",\"\",\"\",\"\"\n",
    "    pontuacao = 0\n",
    "\n",
    "    while a != \"s\" and a !=\"n\":\n",
    "        a = input (\"Digite 's' para sim e 'n' para não\\na. Mora perto da vítima?\")\n",
    "        a = a.lower()\n",
    "        if a == \"s\":\n",
    "            pontuacao +=1\n",
    "\n",
    "    while b != \"s\" and b !=\"n\":\n",
    "        b = input (\"Digite 's' para sim e 'n' para não\\nb. Já trabalhou com a vítima?\")\n",
    "        b = b.lower()\n",
    "        if b == \"s\":\n",
    "            pontuacao +=1\n",
    "\n",
    "    while c != \"s\" and c !=\"n\":\n",
    "        c = input (\"Digite 's' para sim e 'n' para não\\nc. Telefonou para a vítima?\")\n",
    "        c = c.lower()\n",
    "        if c == \"s\":\n",
    "            pontuacao +=1\n",
    "\n",
    "    while d != \"s\" and d !=\"n\":\n",
    "        d = input (\"Digite 's' para sim e 'n' para não\\nd. Esteve no local do crime?\")\n",
    "        d = d.lower()\n",
    "        if d == \"s\":\n",
    "            pontuacao +=1\n",
    "\n",
    "    while e != \"s\" and e !=\"n\":\n",
    "        e = input (\"Digite 's' para sim e 'n' para não\\ne. Devia para a vítima?\")\n",
    "        e = e.lower()\n",
    "        if e == \"s\":\n",
    "            pontuacao +=1\n",
    "\n",
    "    print (\"Pontuação: \", pontuacao)\n",
    "\n",
    "    if pontuacao == 5:\n",
    "        print (investigado,\"possivelmente é o(a) assasino(a)\")\n",
    "        assassinos.insert(0,investigado)\n",
    "\n",
    "    elif pontuacao == 4 or pontuacao == 3:\n",
    "        print (investigado,\"possivelmente é o(a) cúmplice(a)\")\n",
    "        cumplices.insert(0,investigado)\n",
    "\n",
    "    elif pontuacao == 2:\n",
    "        print (investigado,\"é suspeito(a). São necessárias mais investigações\")\n",
    "        suspeitos.insert(0,investigado)\n",
    "\n",
    "    else: \n",
    "        print (investigado, \"pode ser liberado(a).\")\n",
    "        liberados.insert(0,investigado)\n",
    "\n",
    "    addInvestigado = input (\"Deseja adicionar outro investigado? \")\n",
    "    addInvestigado = addInvestigado.lower()\n",
    "\n",
    "print (\"Os assassinos são: \", assassinos)\n",
    "print (\"Os cúmplices são: \", cumplices)\n",
    "print (\"Os suspeitos são: \", suspeitos)\n",
    "print (\"Os liberados são: \", liberados)"
   ]
  },
  {
   "cell_type": "markdown",
   "metadata": {},
   "source": [
    "## 9. Um produto vai sofrer aumento de acordo com a Tabela 1 abaixo. Faça um programa que peça para o usuário digitar o valor do produto de acordo com o preço antigo e escreva uma das mensagens da Tabela 2, de acordo com o preço reajustado: \n",
    "\n",
    "### PREÇO ATUAL\n",
    "\n",
    "Até RS 50 - Aumenta 5%\n",
    "\n",
    "Entre RS 50 e RS 100 - Aumenta 10%\n",
    "\n",
    "Entre RS 100 e RS 150 - Aumenta 13%\n",
    "\n",
    "Acima de RS150 - Aumenta 15%\n",
    "\n",
    "### PREÇO NOVO\n",
    "\n",
    "Até RS 80 - Barato\n",
    "\n",
    "Entre RS 80 e RS 115 - Raoável\n",
    "\n",
    "Entre RS 115 e RS 150 - Normal\n",
    "\n",
    "Entre RS 150 e RS 170 - Caro\n",
    "\n",
    "Acima de RS170 - Muito Caro\n"
   ]
  },
  {
   "cell_type": "code",
   "execution_count": 4,
   "metadata": {},
   "outputs": [
    {
     "name": "stdin",
     "output_type": "stream",
     "text": [
      "Digite o valor do produto:  10\n"
     ]
    },
    {
     "name": "stdout",
     "output_type": "stream",
     "text": [
      "R$  10.5  - Barato\n"
     ]
    }
   ],
   "source": [
    "valorAntigo = float(input(\"Digite o valor do produto: \"))\n",
    "\n",
    "if valorAntigo <= 50:\n",
    "    valor = valorAntigo + (valorAntigo*0.05)\n",
    "    \n",
    "elif valorAntigo > 50 and valorAntigo <=100:\n",
    "    valor = valorAntigo + (valorAntigo*0.1)\n",
    "\n",
    "elif valorAntigo > 100 and valorAntigo <=150:\n",
    "    valor = valorAntigo + (valorAntigo*0.13)\n",
    "\n",
    "else:\n",
    "    valor = valorAntigo + (valorAntigo*0.15)\n",
    "\n",
    "    print (\"Valor atualizado:\",valor)\n",
    "    \n",
    "if valor <= 80:\n",
    "    print (\"R$ \", valor, \" - Barato\")\n",
    "    \n",
    "elif valor > 80 and valor <= 115:\n",
    "    print (\"R$ \", valor, \" - Razoável\")\n",
    "\n",
    "elif valor > 115 and valor <= 150:\n",
    "    print (\"R$ \", valor, \" - Normal\")\n",
    "\n",
    "elif valor > 150 and valor <= 170:\n",
    "    print (\"R$ \", valor, \" - Caro\")\n",
    "else:\n",
    "    print (\"R$ \", valor, \" - Muito Caro\")\n"
   ]
  },
  {
   "cell_type": "markdown",
   "metadata": {},
   "source": [
    "# DESAFIO"
   ]
  },
  {
   "cell_type": "markdown",
   "metadata": {},
   "source": [
    "## 1. Faça um programa que leia 3 números e informe o maior deles. \n"
   ]
  },
  {
   "cell_type": "code",
   "execution_count": 17,
   "metadata": {},
   "outputs": [
    {
     "name": "stdin",
     "output_type": "stream",
     "text": [
      "Digite o primeiro número: 8.0\n",
      "Digite o segundo número:  8.1\n",
      "Digite o terceiro número:  7.9\n"
     ]
    },
    {
     "name": "stdout",
     "output_type": "stream",
     "text": [
      "O maior número é:  8.1\n"
     ]
    }
   ],
   "source": [
    "num1 = float(input(\"Digite o primeiro número:\" ))\n",
    "num2 = float(input(\"Digite o segundo número: \"))\n",
    "num3 = float(input(\"Digite o terceiro número: \"))\n",
    "\n",
    "if num1 > num2:\n",
    "    maior = num1\n",
    "else:\n",
    "    maior = num2\n",
    "    \n",
    "if maior < num3:\n",
    "    maior = num3\n",
    "\n",
    "print (\"O maior número é: \", maior)\n"
   ]
  },
  {
   "cell_type": "markdown",
   "metadata": {},
   "source": [
    "## 2. Faça o mesmo programa do exercício anterior, porém com 4 números. "
   ]
  },
  {
   "cell_type": "code",
   "execution_count": 23,
   "metadata": {},
   "outputs": [
    {
     "name": "stdin",
     "output_type": "stream",
     "text": [
      "Digite o primeiro número: 5\n",
      "Digite o segundo número:  2\n",
      "Digite o terceiro número:  5\n",
      "Digite o quarto valor:  1\n"
     ]
    },
    {
     "name": "stdout",
     "output_type": "stream",
     "text": [
      "O maior número é:  5.0\n"
     ]
    }
   ],
   "source": [
    "num1 = float(input(\"Digite o primeiro número:\" ))\n",
    "num2 = float(input(\"Digite o segundo número: \"))\n",
    "num3 = float(input(\"Digite o terceiro número: \"))\n",
    "num4 = float(input(\"Digite o quarto valor: \"))\n",
    "\n",
    "if num1 > num2:\n",
    "    maior1 = num1\n",
    "else:\n",
    "    maior1 = num2\n",
    "    \n",
    "if num3 > num4:\n",
    "    maior2 = num3\n",
    "else:\n",
    "    maior2 = num4\n",
    "    \n",
    "if maior1 > maior2:\n",
    "    maior = maior1\n",
    "else:\n",
    "    maior = maior2\n",
    "    \n",
    "    \n",
    "print (\"O maior número é: \", maior)\n"
   ]
  },
  {
   "cell_type": "code",
   "execution_count": null,
   "metadata": {},
   "outputs": [],
   "source": []
  },
  {
   "cell_type": "code",
   "execution_count": null,
   "metadata": {},
   "outputs": [],
   "source": []
  }
 ],
 "metadata": {
  "kernelspec": {
   "display_name": "Python 3",
   "language": "python",
   "name": "python3"
  },
  "language_info": {
   "codemirror_mode": {
    "name": "ipython",
    "version": 3
   },
   "file_extension": ".py",
   "mimetype": "text/x-python",
   "name": "python",
   "nbconvert_exporter": "python",
   "pygments_lexer": "ipython3",
   "version": "3.7.6"
  }
 },
 "nbformat": 4,
 "nbformat_minor": 4
}
