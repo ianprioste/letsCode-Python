{
 "cells": [
  {
   "cell_type": "markdown",
   "metadata": {},
   "source": [
    "# Aula 1 - Exercícios Lista 1"
   ]
  },
  {
   "cell_type": "markdown",
   "metadata": {},
   "source": [
    "## 1. Faça um programa que mostre a mensagem \"Olá, mundo!\" na tela. "
   ]
  },
  {
   "cell_type": "code",
   "execution_count": 1,
   "metadata": {},
   "outputs": [
    {
     "name": "stdout",
     "output_type": "stream",
     "text": [
      "Olá, mundo!\n"
     ]
    }
   ],
   "source": [
    "print (\"Olá, mundo!\")"
   ]
  },
  {
   "cell_type": "markdown",
   "metadata": {},
   "source": [
    "## 2. Faça um programa que peça um número e mostre a mensagem \"O número informado foi [número]\". "
   ]
  },
  {
   "cell_type": "code",
   "execution_count": 3,
   "metadata": {},
   "outputs": [
    {
     "name": "stdout",
     "output_type": "stream",
     "text": [
      "Digite um número: 3\n",
      "O número digitado foi: 3\n"
     ]
    }
   ],
   "source": [
    "num = int (input (\"Digite um número: \"))\n",
    "print (\"O número digitado foi:\", num)"
   ]
  },
  {
   "cell_type": "markdown",
   "metadata": {},
   "source": [
    "## 3. Faça um programa que peça um número para o usuário (string), converta-o para float e depois imprima-o na tela. Você consegue fazer a mesma coisa, porém convertendo para int?"
   ]
  },
  {
   "cell_type": "code",
   "execution_count": 4,
   "metadata": {},
   "outputs": [
    {
     "name": "stdout",
     "output_type": "stream",
     "text": [
      "Digite um número: 8.9\n",
      "O número digitado foi:  8.9\n",
      "Convertido em inteiro:  8\n"
     ]
    }
   ],
   "source": [
    "num = float (input(\"Digite um número: \"))\n",
    "print (\"O número digitado foi: \", num)\n",
    "print (\"Convertido em inteiro: \", int(num))"
   ]
  },
  {
   "cell_type": "markdown",
   "metadata": {},
   "source": [
    "## 4. Faça um programa que peça dois números e imprima a soma deles. "
   ]
  },
  {
   "cell_type": "code",
   "execution_count": 5,
   "metadata": {},
   "outputs": [
    {
     "name": "stdout",
     "output_type": "stream",
     "text": [
      "Digite um número: 3\n",
      "Digite outro número: 7\n",
      "A soma é:  10\n"
     ]
    }
   ],
   "source": [
    "a = int (input(\"Digite um número: \"))\n",
    "b = int (input(\"Digite outro número: \"))\n",
    "print (\"A soma é: \", a+b)"
   ]
  },
  {
   "cell_type": "markdown",
   "metadata": {},
   "source": [
    "## 5. Faça um programa que peça as 4 notas bimestrais de um aluno e mostre a média aritmética delas. "
   ]
  },
  {
   "cell_type": "code",
   "execution_count": 14,
   "metadata": {},
   "outputs": [
    {
     "name": "stdout",
     "output_type": "stream",
     "text": [
      "Digite o nome do aluno: Paulo\n",
      "Digite a primeira nota: 3\n",
      "Digite a segunda nota: 2\n",
      "Digite a terceira nota: 6\n",
      "Digite a quarta nota: 2\n",
      "A média do aluno  Paulo  é:  3.25\n"
     ]
    }
   ],
   "source": [
    "aluno = input (\"Digite o nome do aluno: \")\n",
    "nota1 = float(input(\"Digite a primeira nota: \"))\n",
    "nota2 = float(input(\"Digite a segunda nota: \"))\n",
    "nota3 = float(input(\"Digite a terceira nota: \"))\n",
    "nota4 = float(input(\"Digite a quarta nota: \"))\n",
    "media = (nota1+nota2+nota3+nota4)/4\n",
    "print (\"A média do aluno \", aluno,\" é: \", media)"
   ]
  },
  {
   "cell_type": "code",
   "execution_count": 15,
   "metadata": {},
   "outputs": [
    {
     "name": "stdout",
     "output_type": "stream",
     "text": [
      "O aluno Paulo está de RECUPERAÇÃO\n"
     ]
    }
   ],
   "source": [
    "if media >=5:\n",
    "    print(\"O aluno\", aluno, \"está APROVADO\")\n",
    "elif media >=3:\n",
    "    print(\"O aluno\", aluno, \"está de RECUPERAÇÃO\")\n",
    "else:\n",
    "    print(\"O aluno\", aluno, \"está REPROVADO\")"
   ]
  },
  {
   "cell_type": "markdown",
   "metadata": {},
   "source": [
    "## 6. Faça um programa que converta um valor em metros para centímetros. "
   ]
  },
  {
   "cell_type": "code",
   "execution_count": null,
   "metadata": {},
   "outputs": [],
   "source": [
    "m = float (input(\"Digite o valor em metros: \"))\n",
    "cm = m*100\n",
    "print (\"O valor em centímetros é:\",cm)"
   ]
  },
  {
   "cell_type": "markdown",
   "metadata": {},
   "source": [
    "## 7. Faça um programa que peça o raio de um círculo, calcule e mostre sua área. \n",
    "Obs: Fórmula da área de um círculo: A = 3,14*r2, onde r é o raio."
   ]
  },
  {
   "cell_type": "code",
   "execution_count": 12,
   "metadata": {},
   "outputs": [
    {
     "name": "stdout",
     "output_type": "stream",
     "text": [
      "Digite o raio de um círculo: 3\n",
      "A área do círculo é 28.26\n"
     ]
    }
   ],
   "source": [
    "r = float (input(\"Digite o raio de um círculo: \"))\n",
    "print (\"A área do círculo é\", 3.14*r**2)"
   ]
  },
  {
   "cell_type": "markdown",
   "metadata": {},
   "source": [
    "## 8. Faça um programa que pergunte quanto você ganha por hora e o número de horas trabalhadas no mês e depois, calcule e mostre o total do seu salário no referido mês. "
   ]
  },
  {
   "cell_type": "code",
   "execution_count": 18,
   "metadata": {},
   "outputs": [
    {
     "name": "stdout",
     "output_type": "stream",
     "text": [
      "Insira o valor/hora:20\n",
      "Insira a quantidade de horas trabalhadas no referido mês:220\n",
      "O valor do salário neste mês é: R$ 4400.0\n"
     ]
    }
   ],
   "source": [
    "valorHora = float (input(\"Insira o valor/hora: \"))\n",
    "horasTrabalhadas = float (input(\"Insira a quantidade de horas trabalhadas no referido mês:\"))\n",
    "print (\"O valor do salário neste mês é: R$\", valorHora*horasTrabalhadas)"
   ]
  },
  {
   "cell_type": "markdown",
   "metadata": {},
   "source": [
    "## 9. Faça um programa que peça a temperatura em graus Fahrenheit (F), transforme e mostre a temperatura em graus Celsius (°C). \n",
    "Obs: Tente também fazer um programa que faça o inverso: peça a temperatura em graus Celsius e a transforme em graus Fahrenheit.\n"
   ]
  },
  {
   "cell_type": "markdown",
   "metadata": {},
   "source": [
    "Fórmula: °C = (5 * (F-32) / 9)"
   ]
  },
  {
   "cell_type": "code",
   "execution_count": 21,
   "metadata": {},
   "outputs": [
    {
     "name": "stdout",
     "output_type": "stream",
     "text": [
      "Insira o a temperatura em Fahrenheit123\n",
      "123 graus Fahrenheit equivalem a  50.55555555555556 ºC\n"
     ]
    }
   ],
   "source": [
    "f = int (input(\"Insira o a temperatura em Fahrenheit: \"))\n",
    "c = (5*(f-32)/9)\n",
    "print (f,\"graus Fahrenheit equivalem a \",c,\"ºC\")"
   ]
  },
  {
   "cell_type": "code",
   "execution_count": 23,
   "metadata": {},
   "outputs": [
    {
     "name": "stdout",
     "output_type": "stream",
     "text": [
      "Insira o a temperatura em graus Celsius: 30\n",
      "30 ºC equivalem a  86.0 graus Fahrenheit\n"
     ]
    }
   ],
   "source": [
    "c = int (input(\"Insira o a temperatura em graus Celsius: \"))\n",
    "f = (c*9/5)+32\n",
    "print (c,\"ºC equivalem a \",f,\"graus Fahrenheit\")"
   ]
  },
  {
   "cell_type": "code",
   "execution_count": 34,
   "metadata": {},
   "outputs": [
    {
     "name": "stdout",
     "output_type": "stream",
     "text": [
      "Escolha uma opção de conversão\n",
      "1) Fahrenheit para Celsius \n",
      "2) Celsius para Fahrenheit \n",
      "Digite o número da opção desejada:3\n",
      "Opção inválida\n"
     ]
    }
   ],
   "source": [
    "print (\"Escolha uma opção de conversão\\n1) Fahrenheit para Celsius \\n2) Celsius para Fahrenheit \")\n",
    "selecao = input(\"Digite o número da opção desejada:\")\n",
    "\n",
    "if selecao == \"1\":\n",
    "    f = int (input(\"Insira o a temperatura em Fahrenheit: \"))\n",
    "    c = (5*(f-32)/9)\n",
    "    print (f,\"graus Fahrenheit equivalem a \",c,\"ºC\")\n",
    "    \n",
    "elif selecao == \"2\":\n",
    "    c = int (input(\"Insira o a temperatura em graus Celsius: \"))\n",
    "    f = (c*9/5)+32\n",
    "    print (c,\"ºC equivalem a \",f,\"graus Fahrenheit\")\n",
    "    \n",
    "else:\n",
    "    print (\"Opção inválida\")"
   ]
  },
  {
   "cell_type": "markdown",
   "metadata": {},
   "source": [
    "## 10. Faça um programa que peça o dia, o mês e o ano para o usuário e imprima a data completa no formato dd/mm/aaaa.  (QUESTIONAR O PROFESSOR)"
   ]
  },
  {
   "cell_type": "code",
   "execution_count": 19,
   "metadata": {},
   "outputs": [
    {
     "name": "stdout",
     "output_type": "stream",
     "text": [
      "Insira o dia: 28\n",
      "Insira o mês: 01\n",
      "Insira o ano: 10\n",
      "28/01/10\n"
     ]
    }
   ],
   "source": [
    "from datetime import datetime\n",
    "\n",
    "d = input(\"Insira o dia: \")\n",
    "m = input(\"Insira o mês: \")\n",
    "a = input(\"Insira o ano: \")\n",
    "data = d+\"/\"+m+\"/\"+a\n",
    "\n",
    "print (data)"
   ]
  },
  {
   "cell_type": "markdown",
   "metadata": {},
   "source": [
    "## 11. Faça um programa que peça 2 números inteiros e um número real, calcule e mostre:"
   ]
  },
  {
   "cell_type": "code",
   "execution_count": 21,
   "metadata": {},
   "outputs": [
    {
     "name": "stdout",
     "output_type": "stream",
     "text": [
      "Insira o um número inteiro: 10\n",
      "Insira o outro número inteiro: 20\n",
      "Insira um número real: 9.1\n"
     ]
    }
   ],
   "source": [
    "n1 = int(input(\"Insira o um número inteiro: \"))\n",
    "n2 = int(input(\"Insira o outro número inteiro: \"))\n",
    "n3 = float(input(\"Insira um número real: \"))"
   ]
  },
  {
   "cell_type": "markdown",
   "metadata": {},
   "source": [
    "### a) o produto do dobro do primeiro com metade do segundo."
   ]
  },
  {
   "cell_type": "code",
   "execution_count": 25,
   "metadata": {},
   "outputs": [
    {
     "name": "stdout",
     "output_type": "stream",
     "text": [
      "200.0\n"
     ]
    }
   ],
   "source": [
    "a = (n1*2) * (n2/2)\n",
    "print (a)"
   ]
  },
  {
   "cell_type": "markdown",
   "metadata": {},
   "source": [
    "### b) a soma do triplo do primeiro com o terceiro.\n"
   ]
  },
  {
   "cell_type": "code",
   "execution_count": 26,
   "metadata": {},
   "outputs": [
    {
     "name": "stdout",
     "output_type": "stream",
     "text": [
      "39.1\n"
     ]
    }
   ],
   "source": [
    "b = (n1*3) + n3\n",
    "print (b)"
   ]
  },
  {
   "cell_type": "markdown",
   "metadata": {},
   "source": [
    "### c) o terceiro elevado ao cubo."
   ]
  },
  {
   "cell_type": "code",
   "execution_count": 28,
   "metadata": {},
   "outputs": [
    {
     "name": "stdout",
     "output_type": "stream",
     "text": [
      "753.5709999999999\n"
     ]
    }
   ],
   "source": [
    "c = n3**3\n",
    "print (c)"
   ]
  },
  {
   "cell_type": "markdown",
   "metadata": {},
   "source": [
    "## 12. Faça um programa que peça o peso e altura de uma pessoa e calcule seu IMC (Índice de Massa Corporal).\n",
    "Obs: IMC = Peso/Altura2"
   ]
  },
  {
   "cell_type": "code",
   "execution_count": 5,
   "metadata": {},
   "outputs": [
    {
     "name": "stdout",
     "output_type": "stream",
     "text": [
      "Insira seu peso: 78.9\n",
      "Insira sua altura: 1.56\n",
      "IMC:  32.42110453648915\n",
      "Obesidade\n"
     ]
    }
   ],
   "source": [
    "peso = float(input(\"Insira seu peso: \"))\n",
    "altura = float(input(\"Insira sua altura: \"))\n",
    "\n",
    "imc = peso/altura**2\n",
    "print (\"IMC: \",imc)\n",
    "\n",
    "if imc < 18.5:\n",
    "    print (\"Abaixo do peso normal\")\n",
    "\n",
    "elif imc >= 18.5 and imc <25:\n",
    "    print (\"Peso normal\")\n",
    "\n",
    "elif imc >= 25 and imc <30:\n",
    "    print (\"Sobrepeso\")\n",
    "\n",
    "elif imc >= 30 and imc <40:\n",
    "    print (\"Obesidade\")\n",
    "    \n",
    "else:\n",
    "    print (\"Obesidade Grave\")"
   ]
  },
  {
   "cell_type": "markdown",
   "metadata": {},
   "source": [
    "## 13. Faça um programa que peça um valor monetário e aumente-o em 15%."
   ]
  },
  {
   "cell_type": "code",
   "execution_count": 9,
   "metadata": {},
   "outputs": [
    {
     "name": "stdout",
     "output_type": "stream",
     "text": [
      "Insira o valor: R$10\n",
      "O novo valor é R$: 11.5\n"
     ]
    }
   ],
   "source": [
    "x = float(input(\"Insira o valor: R$\"))\n",
    "print (\"O novo valor é R$:\",x+x*0.15)"
   ]
  },
  {
   "cell_type": "markdown",
   "metadata": {},
   "source": [
    "## 14. Faça um programa que peça um valor monetário e diminua-o em 15%."
   ]
  },
  {
   "cell_type": "code",
   "execution_count": 10,
   "metadata": {},
   "outputs": [
    {
     "name": "stdout",
     "output_type": "stream",
     "text": [
      "Insira o valor: R$10\n",
      "O novo valor é R$: 8.5\n"
     ]
    }
   ],
   "source": [
    "x = float(input(\"Insira o valor: R$\"))\n",
    "print (\"O novo valor é R$:\",x-x*0.15)"
   ]
  },
  {
   "cell_type": "markdown",
   "metadata": {},
   "source": [
    "# Desafios"
   ]
  },
  {
   "cell_type": "markdown",
   "metadata": {},
   "source": [
    "## 1. Peça para o usuário digitar uma velocidade inicial (em m/s), uma posição inicial (em m) e um instante de tempo (em s) e imprima a posição de um projétil nesse instante de tempo.\n",
    "Dica: use a fórmula matemática y(t) = y(0) + v(0) * (t + (g*t^2)/2). Onde, g é a aceleração da gravidade (-10m/s²), y(t) é a posição final, y(0) é a posição inicial, v(0) é a velocidade inicial e t é o instante de tempo."
   ]
  },
  {
   "cell_type": "code",
   "execution_count": null,
   "metadata": {},
   "outputs": [],
   "source": []
  },
  {
   "cell_type": "markdown",
   "metadata": {},
   "source": [
    "## 2. Faça um programa que informe a data e a hora para o usuário. Para isso use a função datetime.now() do módulo datetime. "
   ]
  },
  {
   "cell_type": "code",
   "execution_count": 43,
   "metadata": {},
   "outputs": [
    {
     "name": "stdout",
     "output_type": "stream",
     "text": [
      "UTC-03:00\n",
      "05/05/2020 00:07\n"
     ]
    }
   ],
   "source": [
    "from datetime import datetime, timezone, timedelta\n",
    "\n",
    "\n",
    "fuso = timezone(timedelta(hours=-3))\n",
    "dataHora = datetime.now()\n",
    "dataHora = dataHora.astimezone(fuso)\n",
    "\n",
    "dataHora = dataHora.strftime(\"%d/%m/%Y %H:%M\")\n",
    "\n",
    "print(fuso)\n",
    "print(dataHora)"
   ]
  },
  {
   "cell_type": "code",
   "execution_count": null,
   "metadata": {},
   "outputs": [],
   "source": []
  }
 ],
 "metadata": {
  "kernelspec": {
   "display_name": "Python 3",
   "language": "python",
   "name": "python3"
  },
  "language_info": {
   "codemirror_mode": {
    "name": "ipython",
    "version": 3
   },
   "file_extension": ".py",
   "mimetype": "text/x-python",
   "name": "python",
   "nbconvert_exporter": "python",
   "pygments_lexer": "ipython3",
   "version": "3.6.10"
  }
 },
 "nbformat": 4,
 "nbformat_minor": 4
}
